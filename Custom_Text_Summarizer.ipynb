{
  "cells": [
    {
      "cell_type": "markdown",
      "source": [
        "## Importing the Libraries"
      ],
      "metadata": {
        "id": "-pJJrAFF6Ri7"
      },
      "id": "-pJJrAFF6Ri7"
    },
    {
      "cell_type": "code",
      "execution_count": 1,
      "id": "4ce04402",
      "metadata": {
        "colab": {
          "base_uri": "https://localhost:8080/"
        },
        "id": "4ce04402",
        "outputId": "ceb175cb-aa9a-42c1-c0b0-f1a92cf07d07"
      },
      "outputs": [
        {
          "output_type": "stream",
          "name": "stdout",
          "text": [
            "[nltk_data] Downloading package punkt to /root/nltk_data...\n",
            "[nltk_data]   Unzipping tokenizers/punkt.zip.\n",
            "[nltk_data] Downloading package wordnet to /root/nltk_data...\n",
            "[nltk_data]   Unzipping corpora/wordnet.zip.\n",
            "[nltk_data] Downloading package stopwords to /root/nltk_data...\n",
            "[nltk_data]   Unzipping corpora/stopwords.zip.\n"
          ]
        }
      ],
      "source": [
        "import re                        \n",
        "import pickle\n",
        "import numpy as np\n",
        "import pandas as pd\n",
        "from statistics import mode\n",
        "from bs4 import BeautifulSoup  \n",
        "\n",
        "import nltk\n",
        "from nltk import word_tokenize\n",
        "from nltk.stem import LancasterStemmer\n",
        "nltk.download('punkt')\n",
        "nltk.download('wordnet')\n",
        "nltk.download('stopwords')\n",
        "from nltk.corpus import stopwords\n",
        "\n",
        "import tensorflow as tf\n",
        "from matplotlib import pyplot\n",
        "from tensorflow.keras.models import Model\n",
        "from tensorflow.keras import models\n",
        "from tensorflow.keras import backend as K \n",
        "from tensorflow.keras.callbacks import EarlyStopping\n",
        "from tensorflow.keras.preprocessing.sequence import pad_sequences\n",
        "from tensorflow.keras.preprocessing.text import Tokenizer \n",
        "from tensorflow.keras.utils import plot_model\n",
        "from tensorflow.keras.layers import Input,LSTM,Embedding,Dense,Concatenate,Attention\n",
        "from sklearn.model_selection import train_test_split\n",
        "\n",
        "import warnings\n",
        "def fxn():\n",
        "    warnings.warn(\"deprecated\", DeprecationWarning)\n",
        "\n",
        "with warnings.catch_warnings():\n",
        "    warnings.simplefilter(\"ignore\")\n",
        "    fxn()"
      ]
    },
    {
      "cell_type": "code",
      "source": [
        "from google.colab import drive\n",
        "drive.mount('/content/gdrive')\n",
        "data = pd.read_csv('/content/gdrive/MyDrive/Reviews.csv',nrows=100000)\n",
        "\n",
        "# data = pd.read_csv(\"Reviews.csv\",nrows=100000)\n",
        "data.info()"
      ],
      "metadata": {
        "colab": {
          "base_uri": "https://localhost:8080/"
        },
        "id": "SDlhfUe2ntKw",
        "outputId": "2c26c9ff-b7cf-4e2f-9a07-06bd58099cc6"
      },
      "id": "SDlhfUe2ntKw",
      "execution_count": 2,
      "outputs": [
        {
          "output_type": "stream",
          "name": "stdout",
          "text": [
            "Mounted at /content/gdrive\n",
            "<class 'pandas.core.frame.DataFrame'>\n",
            "RangeIndex: 100000 entries, 0 to 99999\n",
            "Data columns (total 10 columns):\n",
            " #   Column                  Non-Null Count   Dtype \n",
            "---  ------                  --------------   ----- \n",
            " 0   Id                      100000 non-null  int64 \n",
            " 1   ProductId               100000 non-null  object\n",
            " 2   UserId                  100000 non-null  object\n",
            " 3   ProfileName             99996 non-null   object\n",
            " 4   HelpfulnessNumerator    100000 non-null  int64 \n",
            " 5   HelpfulnessDenominator  100000 non-null  int64 \n",
            " 6   Score                   100000 non-null  int64 \n",
            " 7   Time                    100000 non-null  int64 \n",
            " 8   Summary                 99998 non-null   object\n",
            " 9   Text                    100000 non-null  object\n",
            "dtypes: int64(5), object(5)\n",
            "memory usage: 7.6+ MB\n"
          ]
        }
      ]
    },
    {
      "cell_type": "markdown",
      "source": [
        "## Preprocessing the Data"
      ],
      "metadata": {
        "id": "bZOmVHMS6Y8R"
      },
      "id": "bZOmVHMS6Y8R"
    },
    {
      "cell_type": "code",
      "source": [
        "contraction_mapping = {\"ain't\": \"is not\", \"aren't\": \"are not\",\"can't\": \"cannot\", \"'cause\": \"because\", \"could've\": \"could have\", \"couldn't\": \"could not\",\n",
        "                           \"didn't\": \"did not\",  \"doesn't\": \"does not\", \"don't\": \"do not\", \"hadn't\": \"had not\", \"hasn't\": \"has not\", \"haven't\": \"have not\",\n",
        "                           \"he'd\": \"he would\",\"he'll\": \"he will\", \"he's\": \"he is\", \"how'd\": \"how did\", \"how'd'y\": \"how do you\", \"how'll\": \"how will\", \"how's\": \"how is\",\n",
        "                           \"I'd\": \"I would\", \"I'd've\": \"I would have\", \"I'll\": \"I will\", \"I'll've\": \"I will have\",\"I'm\": \"I am\", \"I've\": \"I have\", \"i'd\": \"i would\",\n",
        "                           \"i'd've\": \"i would have\", \"i'll\": \"i will\",  \"i'll've\": \"i will have\",\"i'm\": \"i am\", \"i've\": \"i have\", \"isn't\": \"is not\", \"it'd\": \"it would\",\n",
        "                           \"it'd've\": \"it would have\", \"it'll\": \"it will\", \"it'll've\": \"it will have\",\"it's\": \"it is\", \"let's\": \"let us\", \"ma'am\": \"madam\",\n",
        "                           \"mayn't\": \"may not\", \"might've\": \"might have\",\"mightn't\": \"might not\",\"mightn't've\": \"might not have\", \"must've\": \"must have\",\n",
        "                           \"mustn't\": \"must not\", \"mustn't've\": \"must not have\", \"needn't\": \"need not\", \"needn't've\": \"need not have\",\"o'clock\": \"of the clock\",\n",
        "                           \"oughtn't\": \"ought not\", \"oughtn't've\": \"ought not have\", \"shan't\": \"shall not\", \"sha'n't\": \"shall not\", \"shan't've\": \"shall not have\",\n",
        "                           \"she'd\": \"she would\", \"she'd've\": \"she would have\", \"she'll\": \"she will\", \"she'll've\": \"she will have\", \"she's\": \"she is\",\n",
        "                           \"should've\": \"should have\", \"shouldn't\": \"should not\", \"shouldn't've\": \"should not have\", \"so've\": \"so have\",\"so's\": \"so as\",\n",
        "                           \"this's\": \"this is\",\"that'd\": \"that would\", \"that'd've\": \"that would have\", \"that's\": \"that is\", \"there'd\": \"there would\",\n",
        "                           \"there'd've\": \"there would have\", \"there's\": \"there is\", \"here's\": \"here is\",\"they'd\": \"they would\", \"they'd've\": \"they would have\",\n",
        "                           \"they'll\": \"they will\", \"they'll've\": \"they will have\", \"they're\": \"they are\", \"they've\": \"they have\", \"to've\": \"to have\",\n",
        "                           \"wasn't\": \"was not\", \"we'd\": \"we would\", \"we'd've\": \"we would have\", \"we'll\": \"we will\", \"we'll've\": \"we will have\", \"we're\": \"we are\",\n",
        "                           \"we've\": \"we have\", \"weren't\": \"were not\", \"what'll\": \"what will\", \"what'll've\": \"what will have\", \"what're\": \"what are\",\n",
        "                           \"what's\": \"what is\", \"what've\": \"what have\", \"when's\": \"when is\", \"when've\": \"when have\", \"where'd\": \"where did\", \"where's\": \"where is\",\n",
        "                           \"where've\": \"where have\", \"who'll\": \"who will\", \"who'll've\": \"who will have\", \"who's\": \"who is\", \"who've\": \"who have\",\n",
        "                           \"why's\": \"why is\", \"why've\": \"why have\", \"will've\": \"will have\", \"won't\": \"will not\", \"won't've\": \"will not have\",\n",
        "                           \"would've\": \"would have\", \"wouldn't\": \"would not\", \"wouldn't've\": \"would not have\", \"y'all\": \"you all\",\n",
        "                           \"y'all'd\": \"you all would\",\"y'all'd've\": \"you all would have\",\"y'all're\": \"you all are\",\"y'all've\": \"you all have\",\n",
        "                           \"you'd\": \"you would\", \"you'd've\": \"you would have\", \"you'll\": \"you will\", \"you'll've\": \"you will have\",\n",
        "                           \"you're\": \"you are\", \"you've\": \"you have\"}"
      ],
      "metadata": {
        "id": "jbRH_OZBTNJW"
      },
      "id": "jbRH_OZBTNJW",
      "execution_count": 3,
      "outputs": []
    },
    {
      "cell_type": "markdown",
      "source": [
        "### Cleaning the Data"
      ],
      "metadata": {
        "id": "ulZYirla6eNz"
      },
      "id": "ulZYirla6eNz"
    },
    {
      "cell_type": "code",
      "source": [
        "data.drop_duplicates(subset = ['Text'], inplace=True)\n",
        "data.dropna(axis = 0, inplace = True)\n",
        "\n",
        "stop_words = set(stopwords.words('english')) \n",
        "\n",
        "def text_cleaner(text,num):\n",
        "    newString = text.lower()\n",
        "    newString = BeautifulSoup(newString, \"lxml\").text\n",
        "    newString = re.sub(r'\\([^)]*\\)', '', newString)\n",
        "    newString = re.sub('\"','', newString)\n",
        "    newString = re.sub(r\"'s\\b\",\"\",newString)\n",
        "    newString = re.sub(\"[^a-zA-Z]\", \" \", newString) \n",
        "    newString = re.sub('[m]{2,}', 'mm', newString)\n",
        "    \n",
        "    newString = ' '.join([contraction_mapping[t] if t in contraction_mapping \n",
        "                          else t for t in newString.split(\" \")])    \n",
        "\n",
        "    if(num == 0):\n",
        "        tokens = [w for w in newString.split() if not w in stop_words]\n",
        "    else:\n",
        "        tokens = newString.split()\n",
        "\n",
        "    long_words = []\n",
        "    for i in tokens:\n",
        "        if len(i) > 3:                                           \n",
        "            long_words.append(i)   \n",
        "    return (\" \".join(long_words)).strip()\n",
        "\n",
        "cleaned_text = []\n",
        "for t in data['Text']:\n",
        "    cleaned_text.append(text_cleaner(t,0)) \n",
        "\n",
        "cleaned_summary = []\n",
        "for t in data['Summary']:\n",
        "    cleaned_summary.append(text_cleaner(t,1))\n",
        "\n",
        "data['cleaned_text'] = cleaned_text\n",
        "data['cleaned_summary'] = cleaned_summary\n",
        "\n",
        "data.replace('', np.nan, inplace = True)\n",
        "data.dropna(axis = 0, inplace = True)\n",
        "\n",
        "max_text_len = 30\n",
        "max_summary_len = 8\n",
        "\n",
        "cleaned_text = np.array(data['cleaned_text'])\n",
        "cleaned_summary = np.array(data['cleaned_summary'])\n",
        "\n",
        "short_text = []\n",
        "short_summary = []\n",
        "\n",
        "for i in range(len(cleaned_text)):\n",
        "    if(len(cleaned_summary[i].split()) <= max_summary_len and \n",
        "       len(cleaned_text[i].split()) <= max_text_len):\n",
        "        short_text.append(cleaned_text[i])\n",
        "        short_summary.append(cleaned_summary[i])\n",
        "        \n",
        "data = pd.DataFrame({'Text':short_text,'Summary':short_summary})\n",
        "data.info()"
      ],
      "metadata": {
        "id": "uO6OdJ0rTQYU",
        "colab": {
          "base_uri": "https://localhost:8080/"
        },
        "outputId": "edd3a525-66eb-43b6-b833-fce437b9a90c"
      },
      "id": "uO6OdJ0rTQYU",
      "execution_count": 4,
      "outputs": [
        {
          "output_type": "stream",
          "name": "stderr",
          "text": [
            "/usr/local/lib/python3.7/dist-packages/bs4/__init__.py:336: UserWarning: \"http://www.amazon.com/gp/product/b007i7yygy/ref=cm_cr_rev_prod_title\" looks like a URL. Beautiful Soup is not an HTTP client. You should probably use an HTTP client like requests to get the document behind the URL, and feed that document to Beautiful Soup.\n",
            "  ' that document to Beautiful Soup.' % decoded_markup\n"
          ]
        },
        {
          "output_type": "stream",
          "name": "stdout",
          "text": [
            "<class 'pandas.core.frame.DataFrame'>\n",
            "RangeIndex: 52559 entries, 0 to 52558\n",
            "Data columns (total 2 columns):\n",
            " #   Column   Non-Null Count  Dtype \n",
            "---  ------   --------------  ----- \n",
            " 0   Text     52559 non-null  object\n",
            " 1   Summary  52559 non-null  object\n",
            "dtypes: object(2)\n",
            "memory usage: 821.4+ KB\n"
          ]
        }
      ]
    },
    {
      "cell_type": "markdown",
      "source": [
        "### Finalizing the Cleaned Data"
      ],
      "metadata": {
        "id": "ebJeVa446iIR"
      },
      "id": "ebJeVa446iIR"
    },
    {
      "cell_type": "code",
      "execution_count": 5,
      "id": "fb39122c",
      "metadata": {
        "colab": {
          "base_uri": "https://localhost:8080/"
        },
        "id": "fb39122c",
        "outputId": "b873b081-751b-4d5e-bd65-019d1f918f49"
      },
      "outputs": [
        {
          "output_type": "stream",
          "name": "stdout",
          "text": [
            "number of input words :  16597\n",
            "number of target words :  9714\n",
            "maximum input length :  72\n",
            "maximum target length :  19\n"
          ]
        }
      ],
      "source": [
        "data.drop_duplicates(subset = ['Text'], inplace = True)\n",
        "data.dropna(axis = 0, inplace = True)\n",
        "input_data = data.loc[:,'Text']\n",
        "target_data = data.loc[:,'Summary']\n",
        "target_data.replace('', np.nan, inplace = True)\n",
        "\n",
        "input_texts = []\n",
        "target_texts = []\n",
        "input_words = []\n",
        "target_words = []\n",
        "\n",
        "stop_words = set(stopwords.words('english'))\n",
        "stemm = LancasterStemmer()\n",
        "\n",
        "# This function is to clean the User's Input text\n",
        "def clean(texts,src):\n",
        "  words = word_tokenize(texts.lower())\n",
        "  words = list(filter(lambda w:(w.isalpha() and len(w) >= 3),words))\n",
        "  \n",
        "  # Stem the words to their root word and filter stop words\n",
        "  if src == \"inputs\":\n",
        "    words = [stemm.stem(w) for w in words if w not in stop_words]\n",
        "  else:\n",
        "    words = [w for w in words if w not in stop_words]\n",
        "  return words\n",
        "\n",
        "for in_txt, tr_txt in zip(input_data, target_data):\n",
        "  in_words = clean(in_txt,\"inputs\")\n",
        "  input_texts += [' '.join(in_words)]\n",
        "  input_words += in_words\n",
        "\n",
        "  tr_words = clean(\"sos \"+ tr_txt +\" eos\", \"target\")\n",
        "  target_texts += [' '.join(tr_words)]\n",
        "  target_words += tr_words\n",
        "\n",
        "# Store only unique words\n",
        "input_words = sorted(list(set(input_words)))\n",
        "target_words = sorted(list(set(target_words)))\n",
        "num_in_words = len(input_words) \n",
        "num_tr_words = len(target_words)\n",
        "\n",
        "# Counting the Input and target texts which appears most often  \n",
        "max_in_len = mode([len(i) for i in input_texts])\n",
        "max_tr_len = mode([len(i) for i in target_texts])\n",
        "\n",
        "print(\"number of input words : \",num_in_words)\n",
        "print(\"number of target words : \",num_tr_words)\n",
        "print(\"maximum input length : \",max_in_len)\n",
        "print(\"maximum target length : \",max_tr_len)"
      ]
    },
    {
      "cell_type": "markdown",
      "source": [
        "### Splitting into Training Dataset and Tokenizing the Data"
      ],
      "metadata": {
        "id": "BCroKrIr6pBC"
      },
      "id": "BCroKrIr6pBC"
    },
    {
      "cell_type": "code",
      "execution_count": 6,
      "id": "0f4a6af1",
      "metadata": {
        "id": "0f4a6af1"
      },
      "outputs": [],
      "source": [
        "x_train, x_test, y_train, y_test = train_test_split(input_texts,\n",
        "                                                    target_texts,\n",
        "                                                    test_size = 0.1,\n",
        "                                                    random_state = 1)\n",
        "\n",
        "#train the tokenizer with all the words\n",
        "in_tokenizer = Tokenizer()\n",
        "in_tokenizer.fit_on_texts(x_train)\n",
        "tr_tokenizer = Tokenizer()\n",
        "tr_tokenizer.fit_on_texts(y_train)\n",
        "\n",
        "#convert text into sequence of integers\n",
        "x_train = in_tokenizer.texts_to_sequences(x_train) \n",
        "y_train = tr_tokenizer.texts_to_sequences(y_train) \n",
        "\n",
        "#padding the array\n",
        "en_in_data = pad_sequences(x_train,  maxlen = max_in_len, padding='post') \n",
        "dec_data = pad_sequences(y_train,  maxlen = max_tr_len, padding='post')\n",
        "\n",
        "#decoder input will excludes the last word i.e. 'eos'\n",
        "dec_in_data = dec_data[:,:-1]\n",
        "#decoder target excludes the first word i.e 'sos'\n",
        "dec_tr_data = dec_data.reshape(len(dec_data),max_tr_len,1)[:,1:]"
      ]
    },
    {
      "cell_type": "markdown",
      "source": [
        "## Building a Model"
      ],
      "metadata": {
        "id": "Qfk4UPOl6_9x"
      },
      "id": "Qfk4UPOl6_9x"
    },
    {
      "cell_type": "code",
      "execution_count": 7,
      "id": "e7e2469d",
      "metadata": {
        "colab": {
          "base_uri": "https://localhost:8080/"
        },
        "id": "e7e2469d",
        "outputId": "55fa164d-3201-4cd5-f5cd-1f969d652ed6"
      },
      "outputs": [
        {
          "output_type": "stream",
          "name": "stdout",
          "text": [
            "WARNING:tensorflow:Layer lstm will not use cuDNN kernels since it doesn't meet the criteria. It will use a generic GPU kernel as fallback when running on GPU.\n",
            "WARNING:tensorflow:Layer lstm_1 will not use cuDNN kernels since it doesn't meet the criteria. It will use a generic GPU kernel as fallback when running on GPU.\n",
            "WARNING:tensorflow:Layer lstm_2 will not use cuDNN kernels since it doesn't meet the criteria. It will use a generic GPU kernel as fallback when running on GPU.\n",
            "WARNING:tensorflow:Layer lstm_3 will not use cuDNN kernels since it doesn't meet the criteria. It will use a generic GPU kernel as fallback when running on GPU.\n",
            "Model: \"model\"\n",
            "__________________________________________________________________________________________________\n",
            " Layer (type)                   Output Shape         Param #     Connected to                     \n",
            "==================================================================================================\n",
            " input_1 (InputLayer)           [(None, 72)]         0           []                               \n",
            "                                                                                                  \n",
            " embedding (Embedding)          (None, 72, 300)      4979400     ['input_1[0][0]']                \n",
            "                                                                                                  \n",
            " lstm (LSTM)                    [(None, 72, 300),    721200      ['embedding[0][0]']              \n",
            "                                 (None, 300),                                                     \n",
            "                                 (None, 300)]                                                     \n",
            "                                                                                                  \n",
            " input_2 (InputLayer)           [(None, None)]       0           []                               \n",
            "                                                                                                  \n",
            " lstm_1 (LSTM)                  [(None, 72, 300),    721200      ['lstm[0][0]']                   \n",
            "                                 (None, 300),                                                     \n",
            "                                 (None, 300)]                                                     \n",
            "                                                                                                  \n",
            " embedding_1 (Embedding)        (None, None, 300)    2914500     ['input_2[0][0]']                \n",
            "                                                                                                  \n",
            " lstm_2 (LSTM)                  [(None, 72, 300),    721200      ['lstm_1[0][0]']                 \n",
            "                                 (None, 300),                                                     \n",
            "                                 (None, 300)]                                                     \n",
            "                                                                                                  \n",
            " lstm_3 (LSTM)                  [(None, None, 300),  721200      ['embedding_1[0][0]',            \n",
            "                                 (None, 300),                     'lstm_2[0][1]',                 \n",
            "                                 (None, 300)]                     'lstm_2[0][2]']                 \n",
            "                                                                                                  \n",
            " attention (Attention)          (None, None, 300)    0           ['lstm_3[0][0]',                 \n",
            "                                                                  'lstm_2[0][0]']                 \n",
            "                                                                                                  \n",
            " concat_layer1 (Concatenate)    (None, None, 600)    0           ['lstm_3[0][0]',                 \n",
            "                                                                  'attention[0][0]']              \n",
            "                                                                                                  \n",
            " dense (Dense)                  (None, None, 9715)   5838715     ['concat_layer1[0][0]']          \n",
            "                                                                                                  \n",
            "==================================================================================================\n",
            "Total params: 16,617,415\n",
            "Trainable params: 16,617,415\n",
            "Non-trainable params: 0\n",
            "__________________________________________________________________________________________________\n"
          ]
        }
      ],
      "source": [
        "K.clear_session() \n",
        "latent_dim = 300\n",
        "en_inputs = Input(shape = (max_in_len,)) \n",
        "en_embedding = Embedding(num_in_words+1, latent_dim)(en_inputs) \n",
        "\n",
        "# LSTM 1\n",
        "en_lstm1 = LSTM(latent_dim, \n",
        "                return_state = True, \n",
        "                return_sequences = True, \n",
        "                dropout = 0.4, \n",
        "                recurrent_dropout = 0.4) \n",
        "en_outputs1, state_h1, state_c1 = en_lstm1(en_embedding) \n",
        "\n",
        "# LSTM2\n",
        "en_lstm2 = LSTM(latent_dim,\n",
        "                return_state = True,\n",
        "                return_sequences = True, \n",
        "                dropout = 0.4, \n",
        "                recurrent_dropout = 0.4)\n",
        "en_outputs2, state_h2, state_c2 = en_lstm2(en_outputs1) \n",
        "\n",
        "# LSTM3\n",
        "en_lstm3 = LSTM(latent_dim, \n",
        "                return_state = True, \n",
        "                return_sequences = True, \n",
        "                dropout = 0.4, \n",
        "                recurrent_dropout = 0.4)\n",
        "en_outputs3 , state_h3, state_c3 = en_lstm3(en_outputs2)\n",
        "en_states = [state_h3, state_c3]\n",
        "\n",
        "# Decoder \n",
        "dec_inputs = Input(shape = (None, )) \n",
        "dec_emb_layer = Embedding(num_tr_words+1, latent_dim) \n",
        "dec_embedding = dec_emb_layer(dec_inputs) \n",
        "\n",
        "# Initialize decoder's LSTM\n",
        "dec_lstm = LSTM(latent_dim, return_sequences = True, \n",
        "                return_state = True, dropout = 0.4, recurrent_dropout = 0.4)\n",
        "dec_outputs, *_ = dec_lstm(dec_embedding, initial_state = en_states) \n",
        "\n",
        "# Attention layer\n",
        "attention = Attention()\n",
        "attn_out = attention([dec_outputs, en_outputs3])\n",
        "\n",
        "# Concatenate the attention output with the decoder ouputs\n",
        "merge = Concatenate(axis = -1, name = 'concat_layer1')([dec_outputs, attn_out])\n",
        "\n",
        "# Dense layer (output layer)\n",
        "dec_dense = Dense(num_tr_words+1, activation = 'softmax') \n",
        "dec_outputs = dec_dense(merge) \n",
        "\n",
        "model = Model([en_inputs, dec_inputs], dec_outputs) \n",
        "model.summary()"
      ]
    },
    {
      "cell_type": "code",
      "execution_count": null,
      "id": "390e14e7",
      "metadata": {
        "colab": {
          "base_uri": "https://localhost:8080/"
        },
        "id": "390e14e7",
        "outputId": "89946adc-9fc3-45ca-b9bb-68a27e6f5344"
      },
      "outputs": [
        {
          "output_type": "stream",
          "name": "stdout",
          "text": [
            "Epoch 1/50\n",
            "84/84 [==============================] - 110s 1s/step - loss: 1.3111 - accuracy: 0.8399 - val_loss: 0.9572 - val_accuracy: 0.8766\n",
            "Epoch 2/50\n",
            "84/84 [==============================] - 93s 1s/step - loss: 0.9366 - accuracy: 0.8764 - val_loss: 0.9392 - val_accuracy: 0.8769\n",
            "Epoch 3/50\n",
            "84/84 [==============================] - 102s 1s/step - loss: 0.9102 - accuracy: 0.8770 - val_loss: 0.9162 - val_accuracy: 0.8776\n",
            "Epoch 4/50\n",
            "84/84 [==============================] - 104s 1s/step - loss: 0.8823 - accuracy: 0.8780 - val_loss: 0.8968 - val_accuracy: 0.8775\n",
            "Epoch 5/50\n",
            "84/84 [==============================] - 94s 1s/step - loss: 0.8528 - accuracy: 0.8787 - val_loss: 0.8759 - val_accuracy: 0.8788\n",
            "Epoch 6/50\n",
            "84/84 [==============================] - 93s 1s/step - loss: 0.8339 - accuracy: 0.8790 - val_loss: 0.8613 - val_accuracy: 0.8791\n",
            "Epoch 7/50\n",
            "84/84 [==============================] - 93s 1s/step - loss: 0.8128 - accuracy: 0.8798 - val_loss: 0.8552 - val_accuracy: 0.8793\n",
            "Epoch 8/50\n",
            "84/84 [==============================] - 93s 1s/step - loss: 0.7959 - accuracy: 0.8806 - val_loss: 0.8560 - val_accuracy: 0.8793\n",
            "Epoch 9/50\n",
            "84/84 [==============================] - 93s 1s/step - loss: 0.7794 - accuracy: 0.8813 - val_loss: 0.8562 - val_accuracy: 0.8801\n",
            "Epoch 9: early stopping\n",
            "INFO:tensorflow:Assets written to: s2s/assets\n"
          ]
        },
        {
          "output_type": "stream",
          "name": "stderr",
          "text": [
            "INFO:tensorflow:Assets written to: s2s/assets\n",
            "WARNING:absl:<keras.layers.recurrent.LSTMCell object at 0x7f545a6de150> has the same name 'LSTMCell' as a built-in Keras object. Consider renaming <class 'keras.layers.recurrent.LSTMCell'> to avoid naming conflicts when loading with `tf.keras.models.load_model`. If renaming is not possible, pass the object in the `custom_objects` parameter of the load function.\n",
            "WARNING:absl:<keras.layers.recurrent.LSTMCell object at 0x7f545a7c6710> has the same name 'LSTMCell' as a built-in Keras object. Consider renaming <class 'keras.layers.recurrent.LSTMCell'> to avoid naming conflicts when loading with `tf.keras.models.load_model`. If renaming is not possible, pass the object in the `custom_objects` parameter of the load function.\n",
            "WARNING:absl:<keras.layers.recurrent.LSTMCell object at 0x7f545b569b10> has the same name 'LSTMCell' as a built-in Keras object. Consider renaming <class 'keras.layers.recurrent.LSTMCell'> to avoid naming conflicts when loading with `tf.keras.models.load_model`. If renaming is not possible, pass the object in the `custom_objects` parameter of the load function.\n",
            "WARNING:absl:<keras.layers.recurrent.LSTMCell object at 0x7f545bb31650> has the same name 'LSTMCell' as a built-in Keras object. Consider renaming <class 'keras.layers.recurrent.LSTMCell'> to avoid naming conflicts when loading with `tf.keras.models.load_model`. If renaming is not possible, pass the object in the `custom_objects` parameter of the load function.\n"
          ]
        },
        {
          "output_type": "stream",
          "name": "stdout",
          "text": [
            "WARNING:tensorflow:Layer lstm will not use cuDNN kernels since it doesn't meet the criteria. It will use a generic GPU kernel as fallback when running on GPU.\n"
          ]
        },
        {
          "output_type": "stream",
          "name": "stderr",
          "text": [
            "WARNING:tensorflow:Layer lstm will not use cuDNN kernels since it doesn't meet the criteria. It will use a generic GPU kernel as fallback when running on GPU.\n"
          ]
        },
        {
          "output_type": "stream",
          "name": "stdout",
          "text": [
            "WARNING:tensorflow:Layer lstm_1 will not use cuDNN kernels since it doesn't meet the criteria. It will use a generic GPU kernel as fallback when running on GPU.\n"
          ]
        },
        {
          "output_type": "stream",
          "name": "stderr",
          "text": [
            "WARNING:tensorflow:Layer lstm_1 will not use cuDNN kernels since it doesn't meet the criteria. It will use a generic GPU kernel as fallback when running on GPU.\n"
          ]
        },
        {
          "output_type": "stream",
          "name": "stdout",
          "text": [
            "WARNING:tensorflow:Layer lstm_2 will not use cuDNN kernels since it doesn't meet the criteria. It will use a generic GPU kernel as fallback when running on GPU.\n"
          ]
        },
        {
          "output_type": "stream",
          "name": "stderr",
          "text": [
            "WARNING:tensorflow:Layer lstm_2 will not use cuDNN kernels since it doesn't meet the criteria. It will use a generic GPU kernel as fallback when running on GPU.\n"
          ]
        },
        {
          "output_type": "stream",
          "name": "stdout",
          "text": [
            "WARNING:tensorflow:Layer lstm_3 will not use cuDNN kernels since it doesn't meet the criteria. It will use a generic GPU kernel as fallback when running on GPU.\n"
          ]
        },
        {
          "output_type": "stream",
          "name": "stderr",
          "text": [
            "WARNING:tensorflow:Layer lstm_3 will not use cuDNN kernels since it doesn't meet the criteria. It will use a generic GPU kernel as fallback when running on GPU.\n"
          ]
        }
      ],
      "source": [
        "plot_model(model, to_file ='model_plot.png', show_shapes = True, show_layer_names = True)\n",
        "\n",
        "model.compile(optimizer = \"rmsprop\", \n",
        "              loss = \"sparse_categorical_crossentropy\", \n",
        "              metrics = [\"accuracy\"] ) \n",
        "\n",
        "es = EarlyStopping(monitor = 'val_loss', \n",
        "                   mode ='min', \n",
        "                   verbose = 1, \n",
        "                   patience = 2)\n",
        "\n",
        "graph = model.fit([en_in_data, dec_in_data],\n",
        "                    dec_tr_data, \n",
        "                    batch_size = 512, \n",
        "                    epochs = 50,\n",
        "                    callbacks = [es], \n",
        "                    validation_split = 0.1)\n",
        "\n",
        "model.save(\"Model\")\n",
        "# encoder inference\n",
        "latent_dim = 300\n",
        "model = models.load_model(\"Model\")\n",
        "\n",
        "# encoder model\n",
        "en_outputs, state_h_enc, state_c_enc = model.layers[6].output\n",
        "en_states = [state_h_enc, state_c_enc]\n",
        "en_model = Model(model.input[0], [en_outputs] + en_states)\n",
        "\n",
        "# decoder inference\n",
        "dec_state_input_h = Input(shape = (latent_dim, ))\n",
        "dec_state_input_c = Input(shape = (latent_dim, ))\n",
        "dec_hidden_state_input = Input(shape = (max_in_len, latent_dim))\n",
        "\n",
        "# Get the embeddings and input layer from the model\n",
        "dec_inputs = model.input[1]\n",
        "dec_emb_layer = model.layers[5]\n",
        "dec_lstm = model.layers[7]\n",
        "dec_embedding = dec_emb_layer(dec_inputs)\n",
        "\n",
        "# add input and initialize LSTM layer with encoder LSTM states.\n",
        "dec_outputs2, state_h2, state_c2 = dec_lstm(dec_embedding, \n",
        "                                            initial_state = [dec_state_input_h,\n",
        "                                                             dec_state_input_c])\n",
        "\n",
        "#Attention layer\n",
        "attention = model.layers[8]\n",
        "attn_out2 = attention([dec_outputs2, dec_hidden_state_input])\n",
        "\n",
        "merge2 = Concatenate(axis = -1)([dec_outputs2, attn_out2])\n",
        "\n",
        "#Dense layer\n",
        "dec_dense = model.layers[10]\n",
        "dec_outputs2 = dec_dense(merge2)\n",
        "\n",
        "# Finally define the Model Class\n",
        "dec_model = Model(\n",
        "[dec_inputs] + [dec_hidden_state_input, dec_state_input_h, dec_state_input_c],\n",
        "[dec_outputs2] + [state_h2, state_c2])\n",
        "\n",
        "# creating a dictionary with a key as index and value as words.\n",
        "reverse_target_word_index = tr_tokenizer.index_word\n",
        "reverse_source_word_index = in_tokenizer.index_word\n",
        "target_word_index = tr_tokenizer.word_index\n",
        "reverse_target_word_index[0]=' '\n",
        "\n",
        "def decode_sequence(input_seq):\n",
        "    en_out, en_h, en_c= en_model.predict(input_seq)\n",
        "    target_seq = np.zeros((1, 1))\n",
        "    target_seq[0, 0] = target_word_index['sos']\n",
        "    stop_condition = False\n",
        "    decoded_sentence = \"\"\n",
        "    \n",
        "    while not stop_condition: \n",
        "        output_words, dec_h, dec_c = dec_model.predict([target_seq] + [en_out,\n",
        "                                                                       en_h, \n",
        "                                                                       en_c])\n",
        "        word_index = np.argmax(output_words[0, -1, :])\n",
        "        text_word = reverse_target_word_index[word_index]\n",
        "        decoded_sentence += text_word +\" \"\n",
        "        if text_word == \"eos\" or len(decoded_sentence) > max_tr_len:\n",
        "          stop_condition = True\n",
        "        target_seq = np.zeros((1, 1))\n",
        "        target_seq[0, 0] = word_index\n",
        "        en_h, en_c = dec_h, dec_c\n",
        "\n",
        "    return decoded_sentence"
      ]
    },
    {
      "cell_type": "code",
      "source": [
        "from matplotlib import pyplot\n",
        "pyplot.plot(graph.history['loss'], label='train')\n",
        "pyplot.plot(graph.history['val_loss'], label='test')\n",
        "pyplot.legend()\n",
        "pyplot.show()"
      ],
      "metadata": {
        "colab": {
          "base_uri": "https://localhost:8080/",
          "height": 265
        },
        "id": "WeyiXhU-C1CE",
        "outputId": "fe64dc1e-3c81-4c09-8a92-ac5337f84e44"
      },
      "id": "WeyiXhU-C1CE",
      "execution_count": null,
      "outputs": [
        {
          "output_type": "display_data",
          "data": {
            "text/plain": [
              "<Figure size 432x288 with 1 Axes>"
            ],
            "image/png": "[encoded data removed]"
          },
          "metadata": {
            "needs_background": "light"
          }
        }
      ]
    },
    {
      "cell_type": "code",
      "source": [
        "User_Inputs =[\"the product was best product I would recommend it at all. I would even give ten stars.\",\n",
        "     \"it is horrible , not at all worth it. The product was defected and not working.\",\n",
        "     \"I received defected product.Return is also not possible. \\n The product shown in the image is very different from the one that I received\",\n",
        "     \"The product is complete worthless and I hate it. Definite two stars not more than that\",\n",
        "     \"I was skeptical about the product, it exceeded my expectation\",\n",
        "     \"Worst product ever made\",\n",
        "     \"The seller is fake , I recived the product late and it was also damaged. I am heavily dissapointed.\",\n",
        "     \"One word worth it. Every penny is worth it for this product\",\n",
        "     \"The product initally looked good but half the way the display went off. Very disappointing and misleading discription \",\n",
        "     \"The seller refused to refund the product even though it is defected.\"     ]\n",
        "\n",
        "for i in User_Inputs:\n",
        "  inp_review = clean(i,\"inputs\")\n",
        "  inp_review = ' '.join(inp_review)\n",
        "  inp_x = in_tokenizer.texts_to_sequences([inp_review]) \n",
        "  inp_x = pad_sequences(inp_x,  maxlen = max_in_len, padding='post')\n",
        "\n",
        "  summary = decode_sequence(inp_x.reshape(1,max_in_len))\n",
        "  if 'eos' in summary :\n",
        "    summary=summary.replace('eos','')\n",
        "  print(\"Actual Text:     \",i)\n",
        "  print(\"Predicted summary:\",summary);print(\"\\n\")"
      ],
      "metadata": {
        "id": "0GqCXWP42csP",
        "colab": {
          "base_uri": "https://localhost:8080/"
        },
        "outputId": "1e48b0b2-0cd7-4fcf-c220-53a86d6f2dc9"
      },
      "id": "0GqCXWP42csP",
      "execution_count": 16,
      "outputs": [
        {
          "output_type": "stream",
          "name": "stdout",
          "text": [
            "Actual Text:      the product was best product I would recommend it at all. I would even give ten stars.\n",
            "Predicted summary: great product  \n",
            "\n",
            "\n",
            "Actual Text:      it is horrible , not at all worth it. The product was defected and not working.\n",
            "Predicted summary: awful  \n",
            "\n",
            "\n",
            "Actual Text:      I received defected product.Return is also not possible. \n",
            " The product shown in the image is very different from the one that I received\n",
            "Predicted summary: poor quality  \n",
            "\n",
            "\n",
            "Actual Text:      The product is complete worthless and I hate it. Definite two stars not more than that\n",
            "Predicted summary: awful  \n",
            "\n",
            "\n",
            "Actual Text:      I was skeptical about the product, it exceeded my expectation\n",
            "Predicted summary: good  \n",
            "\n",
            "\n",
            "Actual Text:      Worst product ever made\n",
            "Predicted summary: horrible  \n",
            "\n",
            "\n",
            "Actual Text:      The seller is fake , I recived the product late and it was also damaged. I am heavily dissapointed.\n",
            "Predicted summary: misleading  \n",
            "\n",
            "\n",
            "Actual Text:      One word worth it. Every penny is worth it for this product\n",
            "Predicted summary: best  \n",
            "\n",
            "\n",
            "Actual Text:      The product initally looked good but half the way the display went off. Very disappointing and misleading discription \n",
            "Predicted summary: disappointed  \n",
            "\n",
            "\n",
            "Actual Text:      The seller refused to refund the product even though it is defected.\n",
            "Predicted summary: poor quality  \n",
            "\n",
            "\n"
          ]
        }
      ]
    }
  ],
  "metadata": {
    "kernelspec": {
      "display_name": "Python 3 (ipykernel)",
      "language": "python",
      "name": "python3"
    },
    "language_info": {
      "codemirror_mode": {
        "name": "ipython",
        "version": 3
      },
      "file_extension": ".py",
      "mimetype": "text/x-python",
      "name": "python",
      "nbconvert_exporter": "python",
      "pygments_lexer": "ipython3",
      "version": "3.8.12"
    },
    "colab": {
      "name": "Custom_Approach_updated.ipynb",
      "provenance": [],
      "collapsed_sections": []
    },
    "accelerator": "GPU"
  },
  "nbformat": 4,
  "nbformat_minor": 5
}